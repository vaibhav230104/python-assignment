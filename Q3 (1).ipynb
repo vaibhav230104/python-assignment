{
 "cells": [
  {
   "cell_type": "code",
   "execution_count": 4,
   "id": "a372152d-2262-4b13-bf90-fabaab9cd669",
   "metadata": {},
   "outputs": [
    {
     "name": "stdin",
     "output_type": "stream",
     "text": [
      "Enter units of electricity consumed in a month 310\n"
     ]
    },
    {
     "name": "stdout",
     "output_type": "stream",
     "text": [
      "Electricity bill amount: Rs.  2250.0\n"
     ]
    }
   ],
   "source": [
    "user_input = int(input(\"Enter units of electricity consumed in a month\"))\n",
    "\n",
    "if user_input <= 100:\n",
    "    bill = user_input * 4.5\n",
    "elif user_input <= 200:\n",
    "    bill = 100 * 4.5 + (user_input - 100) * 6\n",
    "elif user_input <= 300:\n",
    "    bill = 100 * 4.5 + 100 * 6 + (user_input - 200) * 10\n",
    "else:\n",
    "    bill = 100 * 4.5 + 100 * 6 + 100 * 10 + (user_input - 300) * 20\n",
    "\n",
    "print(\"Electricity bill amount: Rs. \", bill)\n"
   ]
  },
  {
   "cell_type": "code",
   "execution_count": null,
   "id": "774de4dc-aacc-4b73-8503-d8a9d0db87c0",
   "metadata": {},
   "outputs": [],
   "source": []
  }
 ],
 "metadata": {
  "kernelspec": {
   "display_name": "Python 3 (ipykernel)",
   "language": "python",
   "name": "python3"
  },
  "language_info": {
   "codemirror_mode": {
    "name": "ipython",
    "version": 3
   },
   "file_extension": ".py",
   "mimetype": "text/x-python",
   "name": "python",
   "nbconvert_exporter": "python",
   "pygments_lexer": "ipython3",
   "version": "3.10.8"
  }
 },
 "nbformat": 4,
 "nbformat_minor": 5
}
