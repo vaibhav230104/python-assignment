{
 "cells": [
  {
   "cell_type": "code",
   "execution_count": 1,
   "id": "330d9cc2-fd12-4c80-ac44-0eaca292f489",
   "metadata": {},
   "outputs": [
    {
     "name": "stdout",
     "output_type": "stream",
     "text": [
      "0\n",
      "1\n",
      "2\n",
      "3\n",
      "4\n"
     ]
    },
    {
     "name": "stdin",
     "output_type": "stream",
     "text": [
      "Enter your pswrd:  vaibhav22\n",
      "Enter your pswrd:  vaibhav23\n"
     ]
    }
   ],
   "source": [
    "#Q1\n",
    "#for loop:is used when we know how many times we have to repeat the code\n",
    "for i in range (0,5):\n",
    "    print(i)\n",
    "    \n",
    "#while loop:is use when we don't know how many times we have to repeat the code\n",
    "pswrd = \"vaibhav23\"\n",
    "inp = \"\"\n",
    "\n",
    "while inp != pswrd:\n",
    "    inp = input(\"Enter your pswrd: \")\n"
   ]
  },
  {
   "cell_type": "code",
   "execution_count": 2,
   "id": "8974c16f-b3da-4019-81ec-8ab8e38e3184",
   "metadata": {},
   "outputs": [
    {
     "name": "stdout",
     "output_type": "stream",
     "text": [
      "Sum of 10 natural numbers is: 55\n",
      "Product of first 10 natural numbers is: 3628800\n",
      "Sum of 10 natural numbers is: 55\n",
      "Product of first 10 natural numbers is: 3628800\n"
     ]
    }
   ],
   "source": [
    "#Q2\n",
    "#using for loop:\n",
    "s = 0 \n",
    "p = 1\n",
    "for i in range(1,11):\n",
    "    s=s+i\n",
    "    p=p*i\n",
    "print(\"Sum of 10 natural numbers is:\",s)\n",
    "print(\"Product of first 10 natural numbers is:\",p)\n",
    "\n",
    "#using while loop:\n",
    "count = 1\n",
    "s = 0\n",
    "p = 1\n",
    "while count <11:\n",
    "    s=s+count\n",
    "    p=p*count\n",
    "    count=count+1\n",
    "    \n",
    "print(\"Sum of 10 natural numbers is:\",s)\n",
    "print(\"Product of first 10 natural numbers is:\",p)\n",
    "    "
   ]
  },
  {
   "cell_type": "code",
   "execution_count": 14,
   "id": "eff76417-f5fb-4a7e-b862-8bb006f6ba18",
   "metadata": {},
   "outputs": [
    {
     "name": "stdin",
     "output_type": "stream",
     "text": [
      "Enter units of electricity consumed in a month 310\n"
     ]
    },
    {
     "name": "stdout",
     "output_type": "stream",
     "text": [
      "Electricity bill amount: Rs.  2250.0\n"
     ]
    }
   ],
   "source": [
    "#Q3\n",
    "user_input = int(input(\"Enter units of electricity consumed in a month\"))\n",
    "\n",
    "if user_input <= 100:\n",
    "    bill = user_input * 4.5\n",
    "elif user_input <= 200:\n",
    "    bill = 100 * 4.5 + (user_input - 100) * 6\n",
    "elif user_input <= 300:\n",
    "    bill = 100 * 4.5 + 100 * 6 + (user_input - 200) * 10\n",
    "else:\n",
    "    bill = 100 * 4.5 + 100 * 6 + 100 * 10 + (user_input - 300) * 20\n",
    "\n",
    "print(\"Electricity bill amount: Rs. \", bill)"
   ]
  },
  {
   "cell_type": "code",
   "execution_count": 15,
   "id": "fda159e8-ed50-4e88-9eae-ea7b0afb7a86",
   "metadata": {},
   "outputs": [
    {
     "name": "stdout",
     "output_type": "stream",
     "text": [
      "[2, 4, 5, 6, 8, 10, 12, 14, 15, 16, 18, 20, 22, 24, 25, 26, 28, 30, 32, 34, 35, 36, 38, 40, 42, 44, 45, 46, 48, 50, 52, 54, 55, 56, 58, 60, 62, 64, 65, 66, 68, 70, 72, 74, 75, 76, 78, 80, 82, 84, 85, 86, 88, 90, 92, 94, 95, 96, 98, 100]\n",
      "[2, 4, 5, 6, 8, 10, 12, 14, 15, 16, 18, 20, 22, 24, 25, 26, 28, 30, 32, 34, 35, 36, 38, 40, 42, 44, 45, 46, 48, 50, 52, 54, 55, 56, 58, 60, 62, 64, 65, 66, 68, 70, 72, 74, 75, 76, 78, 80, 82, 84, 85, 86, 88, 90, 92, 94, 95, 96, 98, 100]\n"
     ]
    }
   ],
   "source": [
    "#Q4\n",
    "#for loop:\n",
    "list1 = []\n",
    "for i in range(1,101):\n",
    "    cube = i**3\n",
    "    if cube%4==0 or cube%5==0:\n",
    "        list1.append(i)\n",
    "print(list1)\n",
    "\n",
    "#while loop:\n",
    "list2 = []\n",
    "i=1\n",
    "while  i<101:\n",
    "    cube = i**3\n",
    "    if cube%4==0 or cube%5==0:\n",
    "        list2.append(i)\n",
    "    i=i+1\n",
    "print(list2)"
   ]
  },
  {
   "cell_type": "code",
   "execution_count": 17,
   "id": "f2644c53-51ce-4f22-b1c9-151a4c823bef",
   "metadata": {},
   "outputs": [
    {
     "name": "stdout",
     "output_type": "stream",
     "text": [
      "12\n"
     ]
    }
   ],
   "source": [
    "#Q5\n",
    "string = \"I want to become a data scientist\"\n",
    "vowels = \"aeiouAEIOU\"\n",
    "count=0\n",
    "for char in string:\n",
    "    if char in vowels:\n",
    "           count=count+1\n",
    "print(count)"
   ]
  },
  {
   "cell_type": "code",
   "execution_count": null,
   "id": "54e3edf6-de11-405c-ad30-b3cf437f82ec",
   "metadata": {},
   "outputs": [],
   "source": []
  }
 ],
 "metadata": {
  "kernelspec": {
   "display_name": "Python 3 (ipykernel)",
   "language": "python",
   "name": "python3"
  },
  "language_info": {
   "codemirror_mode": {
    "name": "ipython",
    "version": 3
   },
   "file_extension": ".py",
   "mimetype": "text/x-python",
   "name": "python",
   "nbconvert_exporter": "python",
   "pygments_lexer": "ipython3",
   "version": "3.10.8"
  }
 },
 "nbformat": 4,
 "nbformat_minor": 5
}
