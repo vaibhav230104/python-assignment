{
 "cells": [
  {
   "cell_type": "code",
   "execution_count": null,
   "id": "98312833-c06d-4b5c-bd2e-5f7dac3a3319",
   "metadata": {},
   "outputs": [
    {
     "name": "stdout",
     "output_type": "stream",
     "text": [
      "0\n",
      "1\n",
      "2\n",
      "3\n",
      "4\n"
     ]
    }
   ],
   "source": [
    "#Q1\n",
    "#for loop:is used when we know how many times we have to repeat the code\n",
    "for i in range (0,5):\n",
    "    print(i)\n",
    "    \n",
    "#while loop:is use when we don't know how many times we have to repeat the code\n",
    "pswrd = \"vaibhav23\"\n",
    "inp = \"\"\n",
    "\n",
    "while inp != pswrd:\n",
    "    inp = input(\"Enter your pswrd: \")\n",
    "\n",
    "\n",
    "\n",
    "\n"
   ]
  },
  {
   "cell_type": "code",
   "execution_count": null,
   "id": "7a041e55-276e-48d3-bffe-c7098baa129a",
   "metadata": {},
   "outputs": [],
   "source": []
  }
 ],
 "metadata": {
  "kernelspec": {
   "display_name": "Python 3 (ipykernel)",
   "language": "python",
   "name": "python3"
  },
  "language_info": {
   "codemirror_mode": {
    "name": "ipython",
    "version": 3
   },
   "file_extension": ".py",
   "mimetype": "text/x-python",
   "name": "python",
   "nbconvert_exporter": "python",
   "pygments_lexer": "ipython3",
   "version": "3.10.8"
  }
 },
 "nbformat": 4,
 "nbformat_minor": 5
}
