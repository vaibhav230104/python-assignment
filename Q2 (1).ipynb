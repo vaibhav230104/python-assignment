{
 "cells": [
  {
   "cell_type": "code",
   "execution_count": 1,
   "id": "6f940a2c-f606-46c8-bef5-3f7b4a82b4e5",
   "metadata": {},
   "outputs": [
    {
     "name": "stdout",
     "output_type": "stream",
     "text": [
      "Sum of 10 natural numbers is: 55\n",
      "Product of first 10 natural numbers is: 3628800\n",
      "Sum of 10 natural numbers is: 55\n",
      "Product of first 10 natural numbers is: 3628800\n"
     ]
    }
   ],
   "source": [
    "#using for loop:\n",
    "s = 0 \n",
    "p = 1\n",
    "for i in range(1,11):\n",
    "    s=s+i\n",
    "    p=p*i\n",
    "print(\"Sum of 10 natural numbers is:\",s)\n",
    "print(\"Product of first 10 natural numbers is:\",p)\n",
    "\n",
    "#using while loop:\n",
    "count = 1\n",
    "s = 0\n",
    "p = 1\n",
    "while count <11:\n",
    "    s=s+count\n",
    "    p=p*count\n",
    "    count=count+1\n",
    "    \n",
    "print(\"Sum of 10 natural numbers is:\",s)\n",
    "print(\"Product of first 10 natural numbers is:\",p)\n",
    "    "
   ]
  },
  {
   "cell_type": "code",
   "execution_count": null,
   "id": "4d1eda4e-aa97-4049-b7b8-a73d38c80969",
   "metadata": {},
   "outputs": [],
   "source": []
  }
 ],
 "metadata": {
  "kernelspec": {
   "display_name": "Python 3 (ipykernel)",
   "language": "python",
   "name": "python3"
  },
  "language_info": {
   "codemirror_mode": {
    "name": "ipython",
    "version": 3
   },
   "file_extension": ".py",
   "mimetype": "text/x-python",
   "name": "python",
   "nbconvert_exporter": "python",
   "pygments_lexer": "ipython3",
   "version": "3.10.8"
  }
 },
 "nbformat": 4,
 "nbformat_minor": 5
}
